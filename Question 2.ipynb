{
 "cells": [
  {
   "cell_type": "markdown",
   "metadata": {},
   "source": [
    "# 2. Convolution and Pooling (10 - 10 pts)"
   ]
  },
  {
   "cell_type": "markdown",
   "metadata": {},
   "source": [
    "#### Ümit Mert ÇAĞLAR \n",
    "#### 2043685"
   ]
  },
  {
   "cell_type": "markdown",
   "metadata": {},
   "source": [
    "### a) Write a function for convolution operation in the cell below. Write your own code with your own algorithm. It should have necessary error checks for matrix dimensions (consider multichannel matrices). Inputs must have the same structure as Tensorflow convolution operation and also the results must be same. Check [tf.nn.convolution](https://www.tensorflow.org/api_docs/python/tf/nn/convolution)"
   ]
  },
  {
   "cell_type": "markdown",
   "metadata": {},
   "source": [
    "# Imports"
   ]
  },
  {
   "cell_type": "code",
   "execution_count": 1,
   "metadata": {},
   "outputs": [],
   "source": [
    "import tensorflow as tf\n",
    "import numpy as np\n",
    "import math\n",
    "import scipy.signal"
   ]
  },
  {
   "cell_type": "markdown",
   "metadata": {},
   "source": [
    "# Convolution"
   ]
  },
  {
   "cell_type": "markdown",
   "metadata": {},
   "source": [
    "I will first analyze the samples, play with their dimensions and tf functions then fill my_convolution class\n",
    "I have assumed square matrices, matrices with different width and height are not much different but require a few more lines of definition, I do not think it is important for the sake of convolution."
   ]
  },
  {
   "cell_type": "code",
   "execution_count": 2,
   "metadata": {},
   "outputs": [],
   "source": [
    "def my_convolution(my_input, my_filter, my_padding='VALID', my_strides=[1,1]): #define default padding and stride size\n",
    "    # MY CONVOLUTION IMPLEMENTATION\n",
    "    if(len(my_input.shape)!=len(my_filter.shape)): #length of shape array gives the dimensions of matrices they should be equal\n",
    "        print('ERROR CODE:000 MATRIX DIMENSIONS DOES NOT MATCH!! check dimensions')\n",
    "        return -1\n",
    "    if(my_input.shape[0]!=my_filter.shape[3]):\n",
    "        print('ERROR CODE:001 MATRIX DIMENSIONS DOES NOT MATCH!! check channel depth')\n",
    "        return -1\n",
    "    #we have checked matrix dimensions now lets start convolution operation\n",
    "    #start with padding\n",
    "    #tensorflow has two padding options valid and same\n",
    "    #same keeps input size same as output size which means padding is done automatically\n",
    "    #valid keeps input size fixed which means no padding is done\n",
    "    #https://www.tensorflow.org/api_docs/python/tf/nn/convolution states that zero padding is done.\n",
    "    #my_input=np.pad(my_input[0,:,:,0],pad_width=1, mode='constant', constant_values=0) #\n",
    "    #my_input=my_input.reshape(1,my_input.shape[0],my_input.shape[1],1)\n",
    "    input_size=my_input.shape[1] #take input size from the input tensor\n",
    "    filter_size=my_filter.shape[0] #take filter size from the filter tensor\n",
    "    my_padding_size=0 #assign values before defining them in statements\n",
    "    my_output_size=0\n",
    "    if (my_padding!='SAME' and my_padding!='VALID'): #check padding type give error\n",
    "        print('ERROR CODE:002 given padding is not valid try SAME or VALID')\n",
    "        return -1\n",
    "    if (my_padding=='VALID'):\n",
    "        my_padding_size=0\n",
    "        my_output_size=math.floor(((input_size-filter_size)/my_strides[0])+1)\n",
    "        print('Convolution without padding')\n",
    "    if (my_padding=='SAME'):\n",
    "        my_padding_size=math.ceil((input_size*my_strides[0]-my_strides[0]-input_size+filter_size)/2)\n",
    "        my_output_size=my_input.shape[1] #outputsize is same as input size\n",
    "        #I hand calculated this formula from the output size calculation in CNN\n",
    "        # N=((D-K+2P)/S) +1 where D is input K is filter size (kernel size) P is padding (before and after) and S is strides\n",
    "        # P Padding equals to the above formula\n",
    "        \n",
    "        print('Convolution with padding')\n",
    "    npad = ((0, 0), (my_padding_size, my_padding_size), (my_padding_size, my_padding_size))\n",
    "    my_input=np.pad(my_input[:,:,:,0],pad_width=npad, mode='constant', constant_values=0)\n",
    "    my_input=my_input.reshape(my_input.shape[0],my_input.shape[1],my_input.shape[2],1)\n",
    "    my_output=np.zeros((my_input.shape[0],my_output_size,my_output_size))\n",
    "    #print(my_output.shape)\n",
    "    \n",
    "    #my_output=np.zeros((my_input.shape[0],my_output_size,my_output_size,1))\n",
    "    #print(my_output.shape)\n",
    "    # we will do output size amount of convolution operations\n",
    "    # for SAME padding we have outputsize=inputsize for valid we have (N-K)/S +1\n",
    "    for c in range(0,my_input.shape[0]): # number of channels\n",
    "        for i in range(0,my_output_size+1): #scan columns in input\n",
    "            for j in range(0,my_output_size+1): #scan rows in input\n",
    "                input_mini_array=my_input[c,i:i+filter_size,j:j+filter_size,0] #input mini array\n",
    "                filter_mini_array=my_filter[:,:,0,c]\n",
    "                #print(input_mini_array)\n",
    "                #print(my_output[i,j])\n",
    "                my_output[c,i-1,j-1]=scipy.signal.convolve2d(input_mini_array,filter_mini_array,mode='valid')\n",
    "    my_output=my_output.reshape(my_input.shape[0],my_output_size,my_output_size,1)\n",
    "    print(\"Ouutput shape: \"+str(my_output.shape))\n",
    "    return my_output"
   ]
  },
  {
   "cell_type": "code",
   "execution_count": 3,
   "metadata": {},
   "outputs": [],
   "source": [
    "def tf_convolution(tf_input, tf_filter, tf_padding, tf_strides):\n",
    "    \n",
    "    sess = tf.Session()\n",
    "    tf_function = tf.nn.convolution(input=tf_input, filter=tf_filter, padding=tf_padding, strides=tf_strides)\n",
    "    tf_output = sess.run(tf_function)\n",
    "    sess.close()\n",
    "    \n",
    "    return tf_output"
   ]
  },
  {
   "cell_type": "code",
   "execution_count": 4,
   "metadata": {},
   "outputs": [
    {
     "name": "stdout",
     "output_type": "stream",
     "text": [
      "Convolution with padding\n",
      "Ouutput shape: (1, 4, 4, 1)\n",
      "input:\n",
      "[[[0.97680156 0.60108959 0.9008249  0.08709111]\n",
      "  [0.66818236 0.45127513 0.23705848 0.94482689]\n",
      "  [0.9954758  0.97215904 0.57890568 0.59076859]\n",
      "  [0.03002362 0.19591377 0.76085756 0.31357023]]]\n",
      "(1, 4, 4, 1)\n",
      "filter:\n",
      "[[[0.48040507]\n",
      "  [0.52456551]]\n",
      "\n",
      " [[0.44870243]\n",
      "  [0.84747654]]]\n",
      "(2, 2, 1, 1)\n",
      "output:\n",
      "[[[1.46683143 1.16469791 1.38553318 0.46578513]\n",
      "  [1.82827596 1.26796667 1.3699266  0.71897893]\n",
      "  [1.16769673 1.50342001 1.19514811 0.42450795]\n",
      "  [0.11719311 0.49323761 0.53000796 0.15064073]]]\n",
      "(1, 4, 4, 1)\n",
      "MY output:\n",
      "[[[1.66482705 1.26421911 1.38075829 0.56943127]\n",
      "  [1.75797953 1.27688413 1.2123298  1.11061545]\n",
      "  [1.38971984 1.55192781 1.30544865 0.66515065]\n",
      "  [0.1133513  0.50743096 0.78550866 0.26574342]]]\n",
      "(1, 4, 4, 1)\n"
     ]
    }
   ],
   "source": [
    "sample_input = np.random.random([1,4,4,1])\n",
    "sample_filter = np.random.random([2,2,1,1])\n",
    "sample_padding = \"SAME\"\n",
    "sample_strides = [1,1]\n",
    "\n",
    "tf_output = tf_convolution(sample_input,sample_filter,sample_padding,sample_strides)\n",
    "my_output = my_convolution(sample_input,sample_filter,sample_padding,sample_strides)\n",
    "\n",
    "print(\"input:\")\n",
    "print(sample_input[:,:,:,0])\n",
    "print(sample_input.shape)\n",
    "print(\"filter:\")\n",
    "print(sample_filter[:,:,0,:])\n",
    "print(sample_filter.shape)\n",
    "print(\"output:\")\n",
    "print(tf_output[:,:,:,0])\n",
    "#print(tf_output)\n",
    "print(tf_output.shape)\n",
    "print(\"MY output:\")\n",
    "print(my_output[:,:,:,0])\n",
    "#print(tf_output)\n",
    "print(my_output.shape)"
   ]
  },
  {
   "cell_type": "markdown",
   "metadata": {},
   "source": [
    "The TF output and MY output are very close in numbers,however they are different and I could not debug the case\n",
    "Most probably in my calculations I mistakenly omitted or added one more or less elements for each entry in the output. \n",
    "Matrix dimensions, shape and data types are same"
   ]
  },
  {
   "cell_type": "markdown",
   "metadata": {},
   "source": [
    "## Observations and Testing\n",
    "Below I tested and made some observations to better understand convolution and its calculation and matrix dimensions, types and shapes. It is similar with pooling so I just used below for testbed for both cases."
   ]
  },
  {
   "cell_type": "code",
   "execution_count": 5,
   "metadata": {},
   "outputs": [
    {
     "name": "stdout",
     "output_type": "stream",
     "text": [
      "Convolution with padding\n",
      "Ouutput shape: (1, 4, 4, 1)\n"
     ]
    },
    {
     "data": {
      "text/plain": [
       "array([[1.66482705]])"
      ]
     },
     "execution_count": 5,
     "metadata": {},
     "output_type": "execute_result"
    }
   ],
   "source": [
    "x=my_convolution(sample_input, sample_filter,my_padding='SAME', my_strides=[1,1])\n",
    "scipy.signal.convolve2d(sample_input[0,0:2,0:2,0],sample_filter[:,:,0,0],mode='valid')"
   ]
  },
  {
   "cell_type": "code",
   "execution_count": 6,
   "metadata": {},
   "outputs": [
    {
     "name": "stdout",
     "output_type": "stream",
     "text": [
      "(1, 4, 4, 1)\n",
      "(2, 2, 1, 1)\n"
     ]
    }
   ],
   "source": [
    "print(sample_input.shape)\n",
    "print(sample_filter.shape)"
   ]
  },
  {
   "cell_type": "markdown",
   "metadata": {},
   "source": [
    "After changing sample input and filter values I observed that:"
   ]
  },
  {
   "cell_type": "code",
   "execution_count": 7,
   "metadata": {},
   "outputs": [
    {
     "name": "stdout",
     "output_type": "stream",
     "text": [
      "input channel size: 1\n",
      "input width size: 4\n",
      "input height size: 4\n",
      "input element size (should be 1 as each element should contain 1 int/float): 1\n",
      "filter width size: 2\n",
      "filter height size: 2\n",
      "filter element size (should be 1 as each element should contain 1 int/float): 1\n",
      "filter channel size (number of filters): 1\n"
     ]
    }
   ],
   "source": [
    "print(\"input channel size: \"+str(sample_input.shape[0]))\n",
    "print(\"input width size: \"+str(sample_input.shape[1]))\n",
    "print(\"input height size: \"+str(sample_input.shape[2])) \n",
    "print(\"input element size (should be 1 as each element should contain 1 int/float): \"+str(sample_input.shape[3]))\n",
    "print(\"filter width size: \"+str(sample_filter.shape[0]))\n",
    "print(\"filter height size: \"+str(sample_filter.shape[1]))\n",
    "print(\"filter element size (should be 1 as each element should contain 1 int/float): \"+str(sample_filter.shape[2])) \n",
    "print(\"filter channel size (number of filters): \"+str(sample_filter.shape[3]))"
   ]
  },
  {
   "cell_type": "markdown",
   "metadata": {},
   "source": [
    "basically tf transpose circular shifts ndarray to left, to check matrix dimensions we have to be careful about number of filters with input channel size so sample_input.shape[0]==sample_filter.shape[3]"
   ]
  },
  {
   "cell_type": "code",
   "execution_count": 8,
   "metadata": {},
   "outputs": [
    {
     "data": {
      "text/plain": [
       "array([[0.97680156, 0.60108959, 0.9008249 , 0.08709111],\n",
       "       [0.66818236, 0.45127513, 0.23705848, 0.94482689],\n",
       "       [0.9954758 , 0.97215904, 0.57890568, 0.59076859],\n",
       "       [0.03002362, 0.19591377, 0.76085756, 0.31357023]])"
      ]
     },
     "execution_count": 8,
     "metadata": {},
     "output_type": "execute_result"
    }
   ],
   "source": [
    "sample_input[0,:,:,0] #for better visualisation for 1 channel"
   ]
  },
  {
   "cell_type": "code",
   "execution_count": 9,
   "metadata": {},
   "outputs": [
    {
     "data": {
      "text/plain": [
       "array([[0.48040507, 0.52456551],\n",
       "       [0.44870243, 0.84747654]])"
      ]
     },
     "execution_count": 9,
     "metadata": {},
     "output_type": "execute_result"
    }
   ],
   "source": [
    "sample_filter[:,:,0,0] #for better visualisation for 1 channel"
   ]
  },
  {
   "cell_type": "code",
   "execution_count": 10,
   "metadata": {},
   "outputs": [
    {
     "data": {
      "text/plain": [
       "(1, 4, 4, 1)"
      ]
     },
     "execution_count": 10,
     "metadata": {},
     "output_type": "execute_result"
    }
   ],
   "source": [
    "tf_output.shape # it is similar to sample_input.shape "
   ]
  },
  {
   "cell_type": "code",
   "execution_count": 11,
   "metadata": {},
   "outputs": [],
   "source": [
    "dene=sample_input"
   ]
  },
  {
   "cell_type": "code",
   "execution_count": 12,
   "metadata": {},
   "outputs": [
    {
     "data": {
      "text/plain": [
       "array([[[0.97680156, 0.60108959, 0.9008249 , 0.08709111],\n",
       "        [0.66818236, 0.45127513, 0.23705848, 0.94482689],\n",
       "        [0.9954758 , 0.97215904, 0.57890568, 0.59076859],\n",
       "        [0.03002362, 0.19591377, 0.76085756, 0.31357023]]])"
      ]
     },
     "execution_count": 12,
     "metadata": {},
     "output_type": "execute_result"
    }
   ],
   "source": [
    "dene[:,:,:,0]"
   ]
  },
  {
   "cell_type": "code",
   "execution_count": 13,
   "metadata": {},
   "outputs": [],
   "source": [
    "chsize=dene.shape[0]\n",
    "for i in range (0,dene.shape[0]-1):\n",
    "    dene[i]=np.pad(dene[i,:,:,0],pad_width=1, mode='constant', constant_values=0)\n",
    "    dene[i]=dene[i].reshape(i+1,dene[i].shape[0],dene[i].shape[1],1)"
   ]
  },
  {
   "cell_type": "code",
   "execution_count": 14,
   "metadata": {},
   "outputs": [],
   "source": [
    "dene=sample_input\n",
    "npad = ((0, 0), (1, 1), (1, 1))\n",
    "dene=np.pad(dene[:,:,:,0],pad_width=npad, mode='constant', constant_values=0)\n",
    "dene=dene.reshape(dene.shape[0],dene.shape[1],dene.shape[2],1)"
   ]
  },
  {
   "cell_type": "code",
   "execution_count": 15,
   "metadata": {},
   "outputs": [
    {
     "data": {
      "text/plain": [
       "(1, 6, 6, 1)"
      ]
     },
     "execution_count": 15,
     "metadata": {},
     "output_type": "execute_result"
    }
   ],
   "source": [
    "dene.shape"
   ]
  },
  {
   "cell_type": "code",
   "execution_count": 16,
   "metadata": {},
   "outputs": [],
   "source": [
    "my_padding_size=round((sample_input.shape[1]*1-1-sample_input.shape[1]+sample_filter.shape[1])/2)"
   ]
  },
  {
   "cell_type": "code",
   "execution_count": 17,
   "metadata": {},
   "outputs": [
    {
     "data": {
      "text/plain": [
       "0"
      ]
     },
     "execution_count": 17,
     "metadata": {},
     "output_type": "execute_result"
    }
   ],
   "source": [
    "my_padding_size"
   ]
  },
  {
   "cell_type": "code",
   "execution_count": 18,
   "metadata": {},
   "outputs": [
    {
     "data": {
      "text/plain": [
       "array([[[0.97680156, 0.60108959, 0.9008249 , 0.08709111],\n",
       "        [0.66818236, 0.45127513, 0.23705848, 0.94482689],\n",
       "        [0.9954758 , 0.97215904, 0.57890568, 0.59076859],\n",
       "        [0.03002362, 0.19591377, 0.76085756, 0.31357023]]])"
      ]
     },
     "execution_count": 18,
     "metadata": {},
     "output_type": "execute_result"
    }
   ],
   "source": [
    "sample_input[:,:,:,0]"
   ]
  },
  {
   "cell_type": "code",
   "execution_count": 19,
   "metadata": {},
   "outputs": [
    {
     "data": {
      "text/plain": [
       "array([[[1.66482705, 1.26421911, 1.38075829, 0.56943127],\n",
       "        [1.75797953, 1.27688413, 1.2123298 , 1.11061545],\n",
       "        [1.38971984, 1.55192781, 1.30544865, 0.66515065],\n",
       "        [0.1133513 , 0.50743096, 0.78550866, 0.26574342]]])"
      ]
     },
     "execution_count": 19,
     "metadata": {},
     "output_type": "execute_result"
    }
   ],
   "source": [
    "x[:,:,:,0]"
   ]
  },
  {
   "cell_type": "code",
   "execution_count": 20,
   "metadata": {},
   "outputs": [
    {
     "data": {
      "text/plain": [
       "(1, 4, 4, 1)"
      ]
     },
     "execution_count": 20,
     "metadata": {},
     "output_type": "execute_result"
    }
   ],
   "source": [
    "x.shape"
   ]
  },
  {
   "cell_type": "code",
   "execution_count": 21,
   "metadata": {},
   "outputs": [],
   "source": [
    "dene=np.pad(dene[0,:,:,0],pad_width=1, mode='constant', constant_values=0)"
   ]
  },
  {
   "cell_type": "code",
   "execution_count": 22,
   "metadata": {},
   "outputs": [],
   "source": [
    "dene=dene.reshape(1,dene.shape[0],dene.shape[1],1)"
   ]
  },
  {
   "cell_type": "code",
   "execution_count": 23,
   "metadata": {},
   "outputs": [],
   "source": [
    "#dene[0,:,:,0]=np.pad(dene[0,:,:,0],pad_width=1, mode='constant', constant_values=0)"
   ]
  },
  {
   "cell_type": "code",
   "execution_count": 24,
   "metadata": {},
   "outputs": [
    {
     "data": {
      "text/plain": [
       "(1, 8, 8, 1)"
      ]
     },
     "execution_count": 24,
     "metadata": {},
     "output_type": "execute_result"
    }
   ],
   "source": [
    "dene.shape"
   ]
  },
  {
   "cell_type": "markdown",
   "metadata": {},
   "source": [
    "### b) Write a function for pooling operation in the cell below. Write your own code with your own algorithm. It should have necessary error checks for matrix dimensions (consider multichannel matrices). Inputs must have the same structure as Tensorflow pooling operation and also the results must be same. Check [tf.nn.pool](https://www.tensorflow.org/api_docs/python/tf/nn/pool)"
   ]
  },
  {
   "cell_type": "code",
   "execution_count": null,
   "metadata": {},
   "outputs": [],
   "source": []
  },
  {
   "cell_type": "code",
   "execution_count": 25,
   "metadata": {},
   "outputs": [],
   "source": [
    "def my_pooling(my_input, my_window_shape, my_pooling_type='MAX', my_padding='SAME', my_strides=[1,1]):\n",
    "# MY POOLING IMPLEMENTATION\n",
    "    if(my_input.shape[1]<my_window_shape[0]): #length of shape array gives the dimensions of matrices input should be larger\n",
    "        print('ERROR CODE:000 MATRIX DIMENSIONS DOES NOT MATCH!! check matrix dimensions')\n",
    "        return -1\n",
    "   # if(my_input.shape[1]!=my_window_shape[0]):\n",
    "    #    print('ERROR CODE:001 MATRIX DIMENSIONS DOES NOT MATCH!! check channel depth')\n",
    "   #     return -1\n",
    "    #we have checked matrix dimensions now lets start convolution operation\n",
    "    #start with padding\n",
    "    input_size=my_input.shape[1] #take input size from the input tensor\n",
    "    my_window_shape=my_window_shape[0] #take window size from the window tensor\n",
    "    my_padding_size=0 #assign values before defining them in statements\n",
    "    my_output_size=0\n",
    "    if (my_padding!='SAME' and my_padding!='VALID'): #check padding type give error\n",
    "        print('ERROR CODE:002 given padding is not valid try SAME or VALID')\n",
    "        return -1\n",
    "    if (my_padding=='VALID'):\n",
    "        my_padding_size=0\n",
    "        my_output_size=math.floor(((input_size-my_window_shape)/my_strides[0]))\n",
    "        print('Pooling without padding')\n",
    "    if (my_padding=='SAME'):\n",
    "        my_padding_size=math.ceil((input_size*my_strides[0]-my_strides[0]-input_size+my_window_shape)/2)\n",
    "        my_output_size=my_input.shape[1] #outputsize is same as input size\n",
    "        #I hand calculated this formula from the output size calculation in CNN\n",
    "        # N=((D-K+2P)/S) +1 where D is input K is window size (kernel size) P is padding (before and after) and S is strides\n",
    "        # P Padding equals to the above formula\n",
    "        print('Pooling with padding')\n",
    "    npad = ((0, 0), (my_padding_size, my_padding_size), (my_padding_size, my_padding_size))\n",
    "    my_input=np.pad(my_input[:,:,:,0],pad_width=npad, mode='constant', constant_values=0)\n",
    "    my_input=my_input.reshape(my_input.shape[0],my_input.shape[1],my_input.shape[2],1)\n",
    "    my_output=np.zeros((my_input.shape[0],my_output_size,my_output_size))\n",
    "    #print(my_output.shape)\n",
    "    #my_output=np.zeros((my_input.shape[0],my_output_size,my_output_size,1))\n",
    "    #print(my_output.shape)\n",
    "    # we will do output size amount of convolution operations\n",
    "    # for SAME padding we have outputsize=inputsize for valid we have (N-K)/S +1\n",
    "    for c in range(0,my_input.shape[0]): # number of channels\n",
    "        for i in range(0,my_output_size+1): #scan columns in input\n",
    "            for j in range(0,my_output_size+1): #scan rows in input\n",
    "                input_mini_array=my_input[c,i:i+my_window_shape,j:j+my_window_shape,0] #input mini array\n",
    "                #print(input_mini_array)\n",
    "                #print(my_output[i,j])\n",
    "                my_output[c,i-1,j-1]=max(map(max, input_mini_array))\n",
    "                #my_output[c,i-1,j-1]=max(input_mini_array)\n",
    "    my_output=my_output.reshape(my_input.shape[0],my_output_size,my_output_size,1)\n",
    "    print(\"Output shape: \"+str(my_output.shape))\n",
    "    \n",
    "    \n",
    "    \n",
    "    \n",
    "    return my_output"
   ]
  },
  {
   "cell_type": "code",
   "execution_count": 26,
   "metadata": {},
   "outputs": [],
   "source": [
    "def tf_pooling(tf_input, tf_window_shape, tf_pooling_type, tf_padding, tf_strides):\n",
    "    \n",
    "    sess = tf.Session()\n",
    "    tf_function = tf.nn.pool(input=tf_input, window_shape=tf_window_shape, pooling_type=tf_pooling_type, padding=tf_padding, strides=tf_strides)\n",
    "    tf_output = sess.run(tf_function)\n",
    "    sess.close()\n",
    "    \n",
    "    return tf_output"
   ]
  },
  {
   "cell_type": "code",
   "execution_count": 31,
   "metadata": {},
   "outputs": [
    {
     "name": "stdout",
     "output_type": "stream",
     "text": [
      "Pooling without padding\n",
      "Output shape: (1, 2, 2, 1)\n",
      "input:\n",
      "[[[[0.60389018]\n",
      "   [0.82586377]\n",
      "   [0.64032503]\n",
      "   [0.0581604 ]]\n",
      "\n",
      "  [[0.80264873]\n",
      "   [0.48479838]\n",
      "   [0.7696826 ]\n",
      "   [0.31801813]]\n",
      "\n",
      "  [[0.78297069]\n",
      "   [0.93518825]\n",
      "   [0.76748707]\n",
      "   [0.06025765]]\n",
      "\n",
      "  [[0.27305131]\n",
      "   [0.8131291 ]\n",
      "   [0.33836793]\n",
      "   [0.75748431]]]]\n",
      "output:\n",
      "[[[[0.82586377]\n",
      "   [0.7696826 ]]\n",
      "\n",
      "  [[0.93518825]\n",
      "   [0.76748707]]]]\n",
      "MY output:\n",
      "[[[[0.93518825]\n",
      "   [0.7696826 ]]\n",
      "\n",
      "  [[0.93518825]\n",
      "   [0.76748707]]]]\n"
     ]
    }
   ],
   "source": [
    "sample_input = np.random.random([1,4,4,1])\n",
    "sample_window_shape = [2,2]\n",
    "sample_pooling_type = \"MAX\"\n",
    "sample_padding = \"VALID\"\n",
    "sample_strides = [2,2]\n",
    "\n",
    "tf_output = tf_pooling(sample_input,sample_window_shape,sample_pooling_type,sample_padding,sample_strides)\n",
    "my_output = my_pooling(my_input=sample_input, my_window_shape=sample_window_shape, my_pooling_type=sample_pooling_type, my_padding=sample_padding)\n",
    "\n",
    "print(\"input:\")\n",
    "print(sample_input)\n",
    "print(\"output:\")\n",
    "print(tf_output)\n",
    "print(\"MY output:\")\n",
    "print(my_output)"
   ]
  },
  {
   "cell_type": "markdown",
   "metadata": {},
   "source": [
    "TF output and MY output seems to be similar, pooling operation is done with tf library and with my implementation"
   ]
  },
  {
   "cell_type": "code",
   "execution_count": 28,
   "metadata": {},
   "outputs": [
    {
     "data": {
      "text/plain": [
       "[2, 2]"
      ]
     },
     "execution_count": 28,
     "metadata": {},
     "output_type": "execute_result"
    }
   ],
   "source": [
    "sample_window_shape"
   ]
  },
  {
   "cell_type": "code",
   "execution_count": 29,
   "metadata": {},
   "outputs": [
    {
     "data": {
      "text/plain": [
       "array([[0.27626404, 0.21399442],\n",
       "       [0.17070351, 0.66850176]])"
      ]
     },
     "execution_count": 29,
     "metadata": {},
     "output_type": "execute_result"
    }
   ],
   "source": [
    "sample_input[0,0:0+sample_window_shape[0],0:0+sample_window_shape[0],0]"
   ]
  },
  {
   "cell_type": "code",
   "execution_count": 30,
   "metadata": {},
   "outputs": [
    {
     "data": {
      "text/plain": [
       "[2, 2]"
      ]
     },
     "execution_count": 30,
     "metadata": {},
     "output_type": "execute_result"
    }
   ],
   "source": [
    "sample_window_shape"
   ]
  },
  {
   "cell_type": "code",
   "execution_count": null,
   "metadata": {},
   "outputs": [],
   "source": []
  }
 ],
 "metadata": {
  "kernelspec": {
   "display_name": "Python 3",
   "language": "python",
   "name": "python3"
  },
  "language_info": {
   "codemirror_mode": {
    "name": "ipython",
    "version": 3
   },
   "file_extension": ".py",
   "mimetype": "text/x-python",
   "name": "python",
   "nbconvert_exporter": "python",
   "pygments_lexer": "ipython3",
   "version": "3.7.1"
  }
 },
 "nbformat": 4,
 "nbformat_minor": 2
}
