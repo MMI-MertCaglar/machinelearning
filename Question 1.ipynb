{
 "cells": [
  {
   "cell_type": "markdown",
   "metadata": {},
   "source": [
    "# 1. Backpropagation (pen&paper) (5 - 5 - 10 pts)\n",
    "\n",
    "### For each graph, use given integer inputs for x,y,z,w,i,b values and compute node outputs with forward pass from inputs to outputs. Then compute backward pass to perform backpropagation to calculate gradients. Write inputs and outputs for each node. You don’t need to implement any algorithm or code, you can write the values on the printed graph. You don't need to calculate exact numbers."
   ]
  },
  {
   "cell_type": "markdown",
   "metadata": {},
   "source": [
    "##### Ümit Mert ÇAĞLAR 2043685"
   ]
  },
  {
   "cell_type": "markdown",
   "metadata": {},
   "source": [
    "#### Write a seed number in the cell below to generate necessary inputs"
   ]
  },
  {
   "cell_type": "code",
   "execution_count": 1,
   "metadata": {},
   "outputs": [],
   "source": [
    "Random_Seed = 204368"
   ]
  },
  {
   "cell_type": "code",
   "execution_count": 2,
   "metadata": {},
   "outputs": [],
   "source": [
    "import numpy as np"
   ]
  },
  {
   "cell_type": "code",
   "execution_count": 3,
   "metadata": {},
   "outputs": [],
   "source": [
    "np.random.seed(Random_Seed)"
   ]
  },
  {
   "cell_type": "code",
   "execution_count": 4,
   "metadata": {
    "scrolled": false
   },
   "outputs": [
    {
     "name": "stdout",
     "output_type": "stream",
     "text": [
      "SOLVE THE FOLLOWING GRAPH FOR x=1 y=10 z=3\n"
     ]
    }
   ],
   "source": [
    "x,y,z = np.random.randint(-10,+11,3)\n",
    "print(\"SOLVE THE FOLLOWING GRAPH FOR x=%d y=%d z=%d\"%(x,y,z))"
   ]
  },
  {
   "cell_type": "markdown",
   "metadata": {},
   "source": [
    "<img src=\"1a.png\">"
   ]
  },
  {
   "cell_type": "markdown",
   "metadata": {},
   "source": [
    "<img src=\"0.jpg\">"
   ]
  },
  {
   "cell_type": "code",
   "execution_count": 5,
   "metadata": {},
   "outputs": [
    {
     "name": "stdout",
     "output_type": "stream",
     "text": [
      "SOLVE THE FOLLOWING GRAPH FOR x=-9 y=-10 z=-7 w=0\n"
     ]
    }
   ],
   "source": [
    "x,y,z,w = np.random.randint(-10,+11,4)\n",
    "print(\"SOLVE THE FOLLOWING GRAPH FOR x=%d y=%d z=%d w=%d\"%(x,y,z,w))"
   ]
  },
  {
   "cell_type": "markdown",
   "metadata": {},
   "source": [
    "<img src=\"1b.png\">"
   ]
  },
  {
   "cell_type": "markdown",
   "metadata": {},
   "source": [
    "<img src=\"1.jpg\">"
   ]
  },
  {
   "cell_type": "code",
   "execution_count": 6,
   "metadata": {},
   "outputs": [
    {
     "name": "stdout",
     "output_type": "stream",
     "text": [
      "SOLVE THE FOLLOWING GRAPH FOR i0=6 w0=-1 b0=-2 i1=4 w1=4 b1=-7\n"
     ]
    }
   ],
   "source": [
    "i0,w0,b0,i1,w1,b1 = np.random.randint(-10,+11,6)\n",
    "print(\"SOLVE THE FOLLOWING GRAPH FOR i0=%d w0=%d b0=%d i1=%d w1=%d b1=%d\"%(i0,w0,b0,i1,w1,b1))"
   ]
  },
  {
   "cell_type": "markdown",
   "metadata": {},
   "source": [
    "<img src=\"1c.png\">"
   ]
  },
  {
   "cell_type": "markdown",
   "metadata": {},
   "source": [
    "<img src=\"2.jpg\">"
   ]
  },
  {
   "cell_type": "markdown",
   "metadata": {},
   "source": [
    "<img src=\"3.jpg\">"
   ]
  },
  {
   "cell_type": "code",
   "execution_count": null,
   "metadata": {},
   "outputs": [],
   "source": []
  }
 ],
 "metadata": {
  "kernelspec": {
   "display_name": "Python 3",
   "language": "python",
   "name": "python3"
  },
  "language_info": {
   "codemirror_mode": {
    "name": "ipython",
    "version": 3
   },
   "file_extension": ".py",
   "mimetype": "text/x-python",
   "name": "python",
   "nbconvert_exporter": "python",
   "pygments_lexer": "ipython3",
   "version": "3.7.1"
  }
 },
 "nbformat": 4,
 "nbformat_minor": 2
}
